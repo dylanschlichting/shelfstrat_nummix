{
 "cells": [
  {
   "cell_type": "markdown",
   "id": "eeb00eb2-a364-4483-8106-4e5ca2f703d7",
   "metadata": {},
   "source": [
    "## Notebook to check tracer advection schemes and timesteps for the shelfstrat simulations"
   ]
  },
  {
   "cell_type": "code",
   "execution_count": 2,
   "id": "c92f7aaa-be3d-41f7-9931-b0df0fe6bdd6",
   "metadata": {},
   "outputs": [],
   "source": [
    "import numpy as np\n",
    "import xgcm\n",
    "from xgcm import Grid\n",
    "import xarray as xr\n",
    "import xroms\n",
    "import warnings\n",
    "warnings.filterwarnings(\"ignore\") #The chaotic option, used to suppress issues with cf_time with xroms "
   ]
  },
  {
   "cell_type": "markdown",
   "id": "70929cd8-27ca-491f-adcd-c8e28bee2feb",
   "metadata": {},
   "source": [
    "### Open model output for each scheme "
   ]
  },
  {
   "cell_type": "code",
   "execution_count": 3,
   "id": "cf52e39b-106d-42bc-9a52-437361e4cb99",
   "metadata": {},
   "outputs": [],
   "source": [
    "def open_roms(path):\n",
    "    ds1 = xroms.open_netcdf(path)\n",
    "    ds1, grid1 = xroms.roms_dataset(ds1)\n",
    "    return ds1, grid1\n",
    "\n",
    "paths = ['/d2/home/dylan/idealized_nummix/shelf_hsimt_uwind_zerop1_dt_5_60d_avg.nc',\n",
    "         '/d2/home/dylan/idealized_nummix/shelf_hsimt_uwind_zerop1_dt_15_60d_avg.nc',\n",
    "         '/d2/home/dylan/idealized_nummix/shelf_hsimt_uwind_zerop1_dt_30_60d_avg.nc',\n",
    "         '/d2/home/dylan/idealized_nummix/shelf_hsimt_uwind_zerop1_dt_40_60d_avg.nc']\n",
    "\n",
    "pathsu = ['/d2/home/dylan/idealized_nummix/shelf_u3hc4_uwind_zerop1_dt_5_60d_avg.nc',\n",
    "          '/d2/home/dylan/idealized_nummix/shelf_u3hc4_uwind_zerop1_dt_15_60d_avg.nc',\n",
    "          '/d2/home/dylan/idealized_nummix/shelf_u3hc4_uwind_zerop1_dt_30_60d_avg.nc',\n",
    "          '/d2/home/dylan/idealized_nummix/shelf_u3hc4_uwind_zerop1_dt_40_60d_avg.nc']\n",
    "\n",
    "pathsm = ['/d2/home/dylan/idealized_nummix/shelf_mpdata_uwind_zerop1_dt_5_60d_avg.nc',\n",
    "          '/d2/home/dylan/idealized_nummix/shelf_mpdata_uwind_zerop1_dt_15_60d_avg.nc',\n",
    "          '/d2/home/dylan/idealized_nummix/shelf_mpdata_uwind_zerop1_dt_30_60d_avg.nc',\n",
    "          '/d2/home/dylan/idealized_nummix/shelf_mpdata_uwind_zerop1_dt_40_60d_avg.nc']\n",
    "\n",
    "def open_roms(path):\n",
    "    ds1 = xroms.open_netcdf(path)\n",
    "    ds1, grid1 = xroms.roms_dataset(ds1)\n",
    "    ds1 = ds1.isel(ocean_time = slice(0,1100))\n",
    "    return ds1, grid1\n",
    "\n",
    "ds = []\n",
    "grid = []\n",
    "dsm = []\n",
    "gridm = []\n",
    "dsu = []\n",
    "gridu = []\n",
    "for i in range(len(paths)):\n",
    "    ds1, grid1 = open_roms(paths[i])\n",
    "    ds.append(ds1)\n",
    "    grid.append(grid1)\n",
    "    \n",
    "    dsmm, gridmm = open_roms(pathsm[i])\n",
    "    dsm.append(dsmm)\n",
    "    gridm.append(gridmm)\n",
    "    \n",
    "    dsuu, griduu = open_roms(pathsu[i])\n",
    "    dsu.append(dsuu)\n",
    "    gridu.append(griduu)"
   ]
  },
  {
   "cell_type": "code",
   "execution_count": 4,
   "id": "2b37b44a-3049-4161-b416-ae37054d4fee",
   "metadata": {},
   "outputs": [
    {
     "name": "stdout",
     "output_type": "stream",
     "text": [
      "\n",
      "ADVECTION:   HORIZONTAL   VERTICAL     \n",
      "temp:        MPDATA       MPDATA       \n",
      "salt:        MPDATA       MPDATA       \n",
      "dye_01:      MPDATA       MPDATA       \n",
      "dye_02:      MPDATA       MPDATA       \n",
      "dye_03:      MPDATA       MPDATA\n",
      "\n",
      "ADVECTION:   HORIZONTAL   VERTICAL     \n",
      "temp:        Upstream3    Centered4    \n",
      "salt:        Upstream3    Centered4    \n",
      "dye_01:      Upstream3    Centered4    \n",
      "dye_02:      Upstream3    Centered4    \n",
      "dye_03:      Upstream3    Centered4\n",
      "\n",
      "ADVECTION:   HORIZONTAL   VERTICAL     \n",
      "temp:        HSIMT        HSIMT        \n",
      "salt:        HSIMT        HSIMT        \n",
      "dye_01:      HSIMT        HSIMT        \n",
      "dye_02:      HSIMT        HSIMT        \n",
      "dye_03:      HSIMT        HSIMT\n",
      "\n",
      "ADVECTION:   HORIZONTAL   VERTICAL     \n",
      "temp:        MPDATA       MPDATA       \n",
      "salt:        MPDATA       MPDATA       \n",
      "dye_01:      MPDATA       MPDATA       \n",
      "dye_02:      MPDATA       MPDATA       \n",
      "dye_03:      MPDATA       MPDATA\n",
      "\n",
      "ADVECTION:   HORIZONTAL   VERTICAL     \n",
      "temp:        Upstream3    Centered4    \n",
      "salt:        Upstream3    Centered4    \n",
      "dye_01:      Upstream3    Centered4    \n",
      "dye_02:      Upstream3    Centered4    \n",
      "dye_03:      Upstream3    Centered4\n",
      "\n",
      "ADVECTION:   HORIZONTAL   VERTICAL     \n",
      "temp:        HSIMT        HSIMT        \n",
      "salt:        HSIMT        HSIMT        \n",
      "dye_01:      HSIMT        HSIMT        \n",
      "dye_02:      HSIMT        HSIMT        \n",
      "dye_03:      HSIMT        HSIMT\n",
      "\n",
      "ADVECTION:   HORIZONTAL   VERTICAL     \n",
      "temp:        MPDATA       MPDATA       \n",
      "salt:        MPDATA       MPDATA       \n",
      "dye_01:      MPDATA       MPDATA       \n",
      "dye_02:      MPDATA       MPDATA       \n",
      "dye_03:      MPDATA       MPDATA\n",
      "\n",
      "ADVECTION:   HORIZONTAL   VERTICAL     \n",
      "temp:        Upstream3    Centered4    \n",
      "salt:        Upstream3    Centered4    \n",
      "dye_01:      Upstream3    Centered4    \n",
      "dye_02:      Upstream3    Centered4    \n",
      "dye_03:      Upstream3    Centered4\n",
      "\n",
      "ADVECTION:   HORIZONTAL   VERTICAL     \n",
      "temp:        HSIMT        HSIMT        \n",
      "salt:        HSIMT        HSIMT        \n",
      "dye_01:      HSIMT        HSIMT        \n",
      "dye_02:      HSIMT        HSIMT        \n",
      "dye_03:      HSIMT        HSIMT\n",
      "\n",
      "ADVECTION:   HORIZONTAL   VERTICAL     \n",
      "temp:        MPDATA       MPDATA       \n",
      "salt:        MPDATA       MPDATA       \n",
      "dye_01:      MPDATA       MPDATA       \n",
      "dye_02:      MPDATA       MPDATA       \n",
      "dye_03:      MPDATA       MPDATA\n",
      "\n",
      "ADVECTION:   HORIZONTAL   VERTICAL     \n",
      "temp:        Upstream3    Centered4    \n",
      "salt:        Upstream3    Centered4    \n",
      "dye_01:      Upstream3    Centered4    \n",
      "dye_02:      Upstream3    Centered4    \n",
      "dye_03:      Upstream3    Centered4\n",
      "\n",
      "ADVECTION:   HORIZONTAL   VERTICAL     \n",
      "temp:        HSIMT        HSIMT        \n",
      "salt:        HSIMT        HSIMT        \n",
      "dye_01:      HSIMT        HSIMT        \n",
      "dye_02:      HSIMT        HSIMT        \n",
      "dye_03:      HSIMT        HSIMT\n"
     ]
    }
   ],
   "source": [
    "#Print tracer advection scheme\n",
    "for i in range(len(paths)):\n",
    "    print(dsm[i].attrs['NLM_TADV'])\n",
    "    print(dsu[i].attrs['NLM_TADV'])\n",
    "    print(ds[i].attrs['NLM_TADV'])"
   ]
  },
  {
   "cell_type": "code",
   "execution_count": 5,
   "id": "b8c129e3-cdd5-46e8-ae3b-690debbd6217",
   "metadata": {},
   "outputs": [
    {
     "name": "stdout",
     "output_type": "stream",
     "text": [
      "5.0\n",
      "5.0\n",
      "5.0\n",
      "15.0\n",
      "15.0\n",
      "15.0\n",
      "30.0\n",
      "30.0\n",
      "30.0\n",
      "40.0\n",
      "40.0\n",
      "40.0\n"
     ]
    }
   ],
   "source": [
    "#Print baroclinic timestep dt\n",
    "for i in range(len(paths)):\n",
    "    print(dsm[i]['dt'].values)\n",
    "    print(dsu[i]['dt'].values)\n",
    "    print(ds[i]['dt'].values)"
   ]
  },
  {
   "cell_type": "code",
   "execution_count": null,
   "id": "680dffa4-62e2-4772-9ddb-26cad5fa8a4f",
   "metadata": {},
   "outputs": [],
   "source": []
  }
 ],
 "metadata": {
  "kernelspec": {
   "display_name": "copano",
   "language": "python",
   "name": "copano"
  },
  "language_info": {
   "codemirror_mode": {
    "name": "ipython",
    "version": 3
   },
   "file_extension": ".py",
   "mimetype": "text/x-python",
   "name": "python",
   "nbconvert_exporter": "python",
   "pygments_lexer": "ipython3",
   "version": "3.9.13"
  },
  "widgets": {
   "application/vnd.jupyter.widget-state+json": {
    "state": {},
    "version_major": 2,
    "version_minor": 0
   }
  }
 },
 "nbformat": 4,
 "nbformat_minor": 5
}
