{
 "cells": [
  {
   "cell_type": "markdown",
   "id": "bf253ed1-475e-423a-ba1c-4e2dd9e9915b",
   "metadata": {},
   "source": [
    "### Notebook to calculate quantities for wind ensemble plot.\n",
    "Specifically, horizontal salinity gradient magnitude, vertical salinity gradient magnitude, and vertical salinity diffusivity"
   ]
  },
  {
   "cell_type": "code",
   "execution_count": 6,
   "id": "ce0295ec-a8ad-4fa5-88e2-eddc255435d9",
   "metadata": {},
   "outputs": [],
   "source": [
    "#Packages \n",
    "import numpy as np\n",
    "import xgcm\n",
    "from xgcm import Grid\n",
    "import xarray as xr\n",
    "import xroms\n",
    "from datetime import datetime\n",
    "import glob\n",
    "from datetime import timedelta\n",
    " #The chaotic option, used to suppress issues with cf_time with xroms \n",
    "import warnings\n",
    "warnings.filterwarnings(\"ignore\")"
   ]
  },
  {
   "cell_type": "code",
   "execution_count": 8,
   "id": "df63a394-5919-418d-aed0-a1f72a3503c7",
   "metadata": {},
   "outputs": [],
   "source": [
    "paths = ['/d1/shared/shelfstrat_wind/43N_open/shelf_dx_500_uwind_osc_001/shelf_dx_500_uwind_osc_001_avg.nc',\n",
    "         '/d1/shared/shelfstrat_wind/43N_open/shelf_dx_500_uwind_osc_002/shelf_dx_500_uwind_osc_002_avg.nc',\n",
    "         '/d1/shared/shelfstrat_wind/43N_open/shelf_dx_500_uwind_osc_004/shelf_dx_500_uwind_osc_004_avg.nc',\n",
    "         '/d1/shared/shelfstrat_wind/43N_open/shelf_dx_500_uwind_osc_008/shelf_dx_500_uwind_osc_008_avg.nc',\n",
    "         '/d1/shared/shelfstrat_wind/43N_open/shelf_dx_500_uwind_osc_01/shelf_dx_500_uwind_osc_01_avg.nc',\n",
    "         '/d1/shared/shelfstrat_wind/43N_open/shelf_dx_500_uwind_osc_02/shelf_dx_500_uwind_osc_02_avg.nc',\n",
    "         '/d1/shared/shelfstrat_wind/43N_open/shelf_dx_500_uwind_osc_04/shelf_dx_500_uwind_osc_04_avg.nc',\n",
    "         '/d1/shared/shelfstrat_wind/43N_open/shelf_dx_500_uwind_osc_08/shelf_dx_500_uwind_osc_08_avg.nc',\n",
    "         '/d1/shared/shelfstrat_wind/43N_open/shelf_dx_500_uwind_osc_09/shelf_dx_500_uwind_osc_09_avg.nc',\n",
    "         '/d1/shared/shelfstrat_wind/43N_open/shelf_dx_500_uwind_osc_1/shelf_dx_500_uwind_osc_1_avg.nc',\n",
    "         '/d1/shared/shelfstrat_wind/43N_open/shelf_dx_500_uwind_osc_2/shelf_dx_500_uwind_osc_2_avg.nc',\n",
    "         '/d1/shared/shelfstrat_wind/43N_open/shelf_dx_500_uwind_osc_4/shelf_dx_500_uwind_osc_4_avg.nc',\n",
    "         '/d1/shared/shelfstrat_wind/43N_open/shelf_dx_500_uwind_osc_8/shelf_dx_500_uwind_osc_8_avg.nc',\n",
    "         '/d1/shared/shelfstrat_wind/43N_open/shelf_dx_500_uwind_osc_10/shelf_dx_500_uwind_osc_10_avg.nc',\n",
    "         '/d1/shared/shelfstrat_wind/43N_open/shelf_dx_500_uwind_osc_10p5/shelf_dx_500_uwind_osc_10p5_avg.nc']\n",
    "\n",
    "#Open model output with xroms\n",
    "def open_roms(path):\n",
    "    ds = xroms.open_netcdf(path)\n",
    "    ds, grid = xroms.roms_dataset(ds)\n",
    "    # Add 4 days to account for the change in initial condition b.c. ROMS counts at 1, NOT ZERO\n",
    "    ds['ocean_time'] = ds.ocean_time[:]+timedelta(days=4)\n",
    "    return ds, grid\n",
    "\n",
    "ds = []\n",
    "grid = []\n",
    "for i in range(len(paths)):\n",
    "    dsa, grida = open_roms(paths[i])\n",
    "    ds.append(dsa)\n",
    "    grid.append(grida)"
   ]
  },
  {
   "cell_type": "code",
   "execution_count": 16,
   "id": "84f35915-62d7-4f28-9178-bf2925b6d4de",
   "metadata": {},
   "outputs": [
    {
     "name": "stdout",
     "output_type": "stream",
     "text": [
      "5.0\n",
      "21.958333333333332\n",
      "0001-01-05 00:30:00\n",
      "0001-01-21 23:30:00\n"
     ]
    }
   ],
   "source": [
    "etaslice = slice(1,100)\n",
    "xislice = slice(1,-1)\n",
    "tslice = slice(60+24,241+24) #Days 7.5-15\n",
    "tslice1 = slice(0+24,360+24) #Days 5-20\n",
    "\n",
    "time = np.arange(0,len(ds[0].ocean_time))/24 #Crude time vector, could do this a fancier way but meh. \n",
    "time+=5\n",
    "print(time[0])\n",
    "print(time[-1])\n",
    "print(ds[0].ocean_time[0].values)\n",
    "print(ds[0].ocean_time[-1].values)"
   ]
  },
  {
   "cell_type": "code",
   "execution_count": 17,
   "id": "38ad8683-457f-4a74-aa6d-5bb9ea25c9d4",
   "metadata": {},
   "outputs": [],
   "source": [
    "def sgradmag_mean(ds, grid, tslice, etaslice, xislice):\n",
    "    '''\n",
    "Computes the horz. salinity gradient magnitude for the entire\n",
    "water column on the psi points.\n",
    "    ''' \n",
    "    dsaltdxi, dsaltdeta = xroms.hgrad(ds.salt, grid)\n",
    "    dsaltdxi_rho = xroms.to_rho(dsaltdxi, grid)\n",
    "    dsaltdeta_rho = xroms.to_rho(dsaltdeta, grid)\n",
    "    sgradmag = (dsaltdxi_rho**2+dsaltdeta_rho**2)**(1/2)\n",
    "    sgradmag_srho = grid.interp(sgradmag, 'Z', boundary = 'extend')\n",
    "    smean = sgradmag_srho.isel(ocean_time = tslice, eta_rho = etaslice, xi_rho = xislice).mean(['ocean_time', 'xi_rho', 's_rho', 'eta_rho']).values\n",
    "    # smedian = sgradmag_srho.isel(ocean_time = tslice, eta_rho = etaslice, xi_rho = xislice).median(['ocean_time', 'xi_rho', 's_rho', 'eta_rho']).values\n",
    "    sstd = sgradmag_srho.isel(ocean_time = tslice, eta_rho = etaslice, xi_rho = xislice).std(['ocean_time', 'xi_rho', 's_rho', 'eta_rho']).values\n",
    "    return smean, sstd\n",
    "\n",
    "def dsdz(ds, grid, tslice, etaslice, xislice):\n",
    "    '''\n",
    "Computes the vertical salinity gradient magnitude for the entire\n",
    "water column on the psi points.\n",
    "    ''' \n",
    "    dsdz = xroms.ddz(ds.salt, grid)\n",
    "    dsdz_srho = grid.interp(dsdz, 'Z', boundary = 'extend')\n",
    "    dsdz_srho.attrs = ''\n",
    "    dsdz_srho.name = 'dsdz'\n",
    "    svmean = dsdz_srho.isel(ocean_time = tslice, eta_rho = etaslice, xi_rho = xislice).mean(['ocean_time', 'xi_rho', 's_rho', 'eta_rho']).values\n",
    "    svstd = dsdz_srho.isel(ocean_time = tslice, eta_rho = etaslice, xi_rho = xislice).std(['ocean_time', 'xi_rho', 's_rho', 'eta_rho']).values\n",
    "   \n",
    "    return svmean, svstd\n",
    "\n",
    "def vert_diffusivity(ds, grid, tslice, etaslice, xislice):\n",
    "    '''\n",
    "Computes the vertical salinity gradient magnitude for the entire\n",
    "water column on the psi points.\n",
    "    ''' \n",
    "    aks = ds.AKs\n",
    "    aks_srho = grid.interp(aks, 'Z', boundary = 'extend')\n",
    "    aks_srho.attrs = ''\n",
    "    aks_srho.name = 'aks'\n",
    "    aksmean = aks_srho.isel(ocean_time = tslice, eta_rho = etaslice, xi_rho = xislice).mean(['ocean_time', 'xi_rho', 's_rho', 'eta_rho']).values\n",
    "    aksstd = aks_srho.isel(ocean_time = tslice, eta_rho = etaslice, xi_rho = xislice).std(['ocean_time', 'xi_rho', 's_rho', 'eta_rho']).values\n",
    "   \n",
    "    return aksmean, aksstd"
   ]
  },
  {
   "cell_type": "markdown",
   "id": "aefa8624-4ca3-47f0-8aa2-5c7a1fb50926",
   "metadata": {},
   "source": [
    "### Run functions and save to a netcdf"
   ]
  },
  {
   "cell_type": "code",
   "execution_count": 19,
   "id": "0948ec73-77fb-4176-9a26-b30680a298db",
   "metadata": {},
   "outputs": [
    {
     "name": "stdout",
     "output_type": "stream",
     "text": [
      "0\n",
      "1\n",
      "2\n",
      "3\n",
      "4\n",
      "5\n",
      "6\n",
      "7\n",
      "8\n",
      "9\n",
      "10\n",
      "11\n",
      "12\n",
      "13\n",
      "14\n"
     ]
    }
   ],
   "source": [
    "s = []\n",
    "s_std = []\n",
    "for i in range(len(paths)):\n",
    "    print(i)\n",
    "    # smean, sstd = sgradmag_mean(ds[i], grid[i], tslice, etaslice, xislice) #Day 7.5-15\n",
    "    smean, sstd = sgradmag_mean(ds[i], grid[i], tslice1, etaslice, xislice) #Day 5-20\n",
    "    s.append(smean)\n",
    "    s_std.append(sstd)\n",
    "    \n",
    "# np.save('outputs/wind_ens/mean_shgrad_allsims_day7p5_15', s)\n",
    "# np.save('outputs/wind_ens/std_shgrad_allsims_day7p5_15', s_std)\n",
    "np.save('outputs/wind_ens/mean_shgrad_allsims_day5_20', s)\n",
    "np.save('outputs/wind_ens/std_shgrad_allsims_day5_20', s_std)"
   ]
  },
  {
   "cell_type": "code",
   "execution_count": 20,
   "id": "7a0ad135-6d0e-4c53-82c6-e57da246adbe",
   "metadata": {},
   "outputs": [],
   "source": [
    "sv = []\n",
    "svd = []\n",
    "for i in range(len(paths)):\n",
    "    # svmean, svstd = dsdz(ds[i], grid[i], tslice, etaslice, xislice)\n",
    "    svmean, svstd = dsdz(ds[i], grid[i], tslice1, etaslice, xislice)\n",
    "    sv.append(svmean)\n",
    "    svd.append(svstd)\n",
    "    \n",
    "# np.save('outputs/wind_ens/mean_svgrad_allsims_day7p5_15', sv)\n",
    "# np.save('outputs/wind_ens/std_svgrad_allsims_day7p5_15', svd)\n",
    "np.save('outputs/wind_ens/mean_svgrad_allsims_day5_20', sv)\n",
    "np.save('outputs/wind_ens/std_svgrad_allsims_day5_20', svd)"
   ]
  },
  {
   "cell_type": "code",
   "execution_count": 23,
   "id": "cc9942ac-14ba-45fe-b077-a5dc97d0fc77",
   "metadata": {},
   "outputs": [],
   "source": [
    "diffu = []\n",
    "diffustd = []\n",
    "for i in range(len(paths)):\n",
    "    # aksmean, aksstd = vert_diffusivity(ds[i], grid[i], tslice, etaslice, xislice)\n",
    "    aksmean, aksstd = vert_diffusivity(ds[i], grid[i], tslice1, etaslice, xislice)\n",
    "    diffu.append(aksmean)\n",
    "    diffustd.append(aksstd)\n",
    "    \n",
    "# np.save('outputs/wind_ens/mean_sdfiffusivity_allsims_day7pt_15', diffu)\n",
    "# np.save('outputs/wind_ens/std_sdfiffusivity_allsims_day7pt_15', diffustd)\n",
    "np.save('outputs/wind_ens/mean_sdfiffsuvity_allsims_day5_20', diffu)\n",
    "np.save('outputs/wind_ens/std_sdfiffsuvity_allsims_day5_20', diffustd)"
   ]
  },
  {
   "cell_type": "code",
   "execution_count": null,
   "id": "b80d89c7-94a2-46f3-b5e2-2c8aa3318a62",
   "metadata": {},
   "outputs": [],
   "source": []
  }
 ],
 "metadata": {
  "kernelspec": {
   "display_name": "copano",
   "language": "python",
   "name": "copano"
  },
  "language_info": {
   "codemirror_mode": {
    "name": "ipython",
    "version": 3
   },
   "file_extension": ".py",
   "mimetype": "text/x-python",
   "name": "python",
   "nbconvert_exporter": "python",
   "pygments_lexer": "ipython3",
   "version": "3.9.13"
  },
  "widgets": {
   "application/vnd.jupyter.widget-state+json": {
    "state": {},
    "version_major": 2,
    "version_minor": 0
   }
  }
 },
 "nbformat": 4,
 "nbformat_minor": 5
}
