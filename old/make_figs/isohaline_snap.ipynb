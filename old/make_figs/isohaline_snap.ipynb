{
 "cells": [
  {
   "cell_type": "markdown",
   "id": "4febce8e-c90c-4f04-ac19-b0e81f6849d6",
   "metadata": {},
   "source": [
    "### Notebook to make plots of surface/bottom isohalines right as the instabilities reach the boundary."
   ]
  },
  {
   "cell_type": "code",
   "execution_count": 1,
   "id": "a57ddf2a-9b79-4a32-8309-471a20265699",
   "metadata": {},
   "outputs": [],
   "source": [
    "#Packages \n",
    "import numpy as np\n",
    "import xgcm\n",
    "from xgcm import Grid\n",
    "import xarray as xr\n",
    "import xroms\n",
    "from datetime import datetime\n",
    "\n",
    "import glob\n",
    "from xhistogram.xarray import histogram\n",
    "import cmocean.cm as cmo\n",
    "import matplotlib.pyplot as plt\n",
    "from matplotlib import colors\n",
    "import matplotlib.ticker as tick\n",
    "from matplotlib.dates import DateFormatter\n",
    "from mpl_toolkits.axes_grid1 import make_axes_locatable\n",
    "import matplotlib.dates as mdates\n",
    "from matplotlib.ticker import AutoMinorLocator\n",
    "from xhistogram.xarray import histogram\n",
    "from datetime import timedelta\n",
    "import time\n",
    "\n",
    "import warnings\n",
    "warnings.filterwarnings(\"ignore\") #The chaotic option, used to suppress issues with cf_time with xroms \n",
    "\n",
    "from matplotlib.ticker import (MultipleLocator, AutoMinorLocator)\n",
    "from matplotlib import pyplot as plt, patches"
   ]
  },
  {
   "cell_type": "markdown",
   "id": "7ed4159f-ba8a-4d26-abf1-a7e2433e8cbc",
   "metadata": {},
   "source": [
    "### Open model output"
   ]
  },
  {
   "cell_type": "code",
   "execution_count": 2,
   "id": "30750288-cbac-4f0d-9ab7-3aaac33e278e",
   "metadata": {},
   "outputs": [],
   "source": [
    "def open_roms(path):\n",
    "    ds1 = xroms.open_netcdf(path)\n",
    "    ds1, grid1 = xroms.roms_dataset(ds1)\n",
    "    return ds1, grid1\n",
    "\n",
    "paths = ['/d2/home/dylan/idealized_nummix/shelf_mpdata_uwind_zerop1_dt_30_60d_avg.nc',\n",
    "         '/d2/home/dylan/idealized_nummix/shelf_u3hc4_uwind_zerop1_dt_30_60d_avg.nc',\n",
    "         '/d2/home/dylan/idealized_nummix/shelf_hsimt_uwind_zerop1_dt_30_60d_avg.nc']\n",
    "\n",
    "def open_roms(path):\n",
    "    ds1 = xroms.open_netcdf(path)\n",
    "    ds1, grid1 = xroms.roms_dataset(ds1)\n",
    "    ds1 = ds1.isel(ocean_time = slice(0,604))\n",
    "    return ds1, grid1\n",
    "\n",
    "ds = []\n",
    "grid = []\n",
    "for i in range(len(paths)):\n",
    "    ds1, grid1 = open_roms(paths[i])\n",
    "    ds.append(ds1)\n",
    "    grid.append(grid1)\n",
    "    # print('iter complete')"
   ]
  },
  {
   "cell_type": "markdown",
   "id": "b9d2b584-e3f2-4640-abe4-c45ac49a573f",
   "metadata": {},
   "source": [
    "### Check the time at t = 600 to make sure its day 26\n",
    "Also calculate the range for the colorbar "
   ]
  },
  {
   "cell_type": "code",
   "execution_count": 3,
   "id": "b0602f4a-7908-4171-8fbb-abe8b2ffd23f",
   "metadata": {},
   "outputs": [
    {
     "name": "stdout",
     "output_type": "stream",
     "text": [
      "0001-01-26 00:30:00\n",
      "34.99998\n",
      "35.01984\n",
      "34.999985\n",
      "27.913433\n",
      "27.838411\n",
      "27.884632\n"
     ]
    }
   ],
   "source": [
    "t = 600 \n",
    "print(ds[0].ocean_time[t].values)\n",
    "print(ds[0].salt[t,-1].max().values)\n",
    "print(ds[1].salt[t,-1].max().values)\n",
    "print(ds[2].salt[t,-1].max().values)\n",
    "print(ds[0].salt[t,-1].min().values)\n",
    "print(ds[1].salt[t,-1].min().values)\n",
    "print(ds[2].salt[t,-1].min().values)"
   ]
  },
  {
   "cell_type": "markdown",
   "id": "0684ae35-60b6-412f-b0c2-92fb9fb4f097",
   "metadata": {},
   "source": [
    "### Plot the surface and bottom salinity, overlay the contours "
   ]
  },
  {
   "cell_type": "code",
   "execution_count": null,
   "id": "305e90e1-33f9-4e45-aaaf-e61b6055f82f",
   "metadata": {},
   "outputs": [],
   "source": [
    "nrows = 2; ncols = 3\n",
    "fig, ax = plt.subplots(nrows,ncols, \n",
    "                       figsize = ((7/2)*2.55,(8.66/3)*2), #Have to brute force the size\n",
    "                       constrained_layout = True)\n",
    "#Surface\n",
    "cs = ax[0,0].pcolormesh(ds[0].x_rho/1000,ds[0].y_rho/1000, ds[0].salt[t,-1], \n",
    "                        vmin = 28, vmax = 35, cmap = cm)\n",
    "cc = ax[0,0].contour(ds[0].x_rho/1000,ds[0].y_rho/1000, ds[0].salt[t,-1], \n",
    "                     levels = np.arange(28,36,0.5), colors = 'k', linewidths = 0.8,\n",
    "                     add_colorbar = False)\n",
    "ax[0,1].pcolormesh(ds[1].x_rho/1000,ds[1].y_rho/1000, ds[1].salt[t,-1], \n",
    "                   vmin = 28, vmax = 35, cmap = cm)\n",
    "ax[0,1].contour(ds[1].x_rho/1000,ds[1].y_rho/1000, ds[1].salt[t,-1], \n",
    "               levels = np.arange(28,35.5,0.5), colors = 'k', linewidths = 0.8,\n",
    "               add_colorbar = False)\n",
    "ax[0,2].pcolormesh(ds[2].x_rho/1000,ds[2].y_rho/1000, ds[2].salt[t,-1], \n",
    "                   vmin = 28, vmax = 35, cmap = cm)\n",
    "ax[0,2].contour(ds[2].x_rho/1000,ds[2].y_rho/1000, ds[2].salt[t,-1], \n",
    "                levels = np.arange(28,36,0.5), colors = 'k', linewidths = 0.8,\n",
    "                add_colorbar = False)\n",
    "#Bottom\n",
    "cs1 = ax[1,0].pcolormesh(ds[0].x_rho/1000,ds[0].y_rho/1000, ds[0].salt[t,0], \n",
    "                         vmin = 28, vmax = 35, cmap = cm)\n",
    "cc = ax[1,0].contour(ds[0].x_rho/1000,ds[0].y_rho/1000, ds[0].salt[t,0], \n",
    "                     levels = np.arange(28,36,0.5), colors = 'k', linewidths = 0.8,\n",
    "                     add_colorbar = False)\n",
    "ax[1,1].pcolormesh(ds[1].x_rho/1000,ds[1].y_rho/1000, ds[1].salt[t,0], \n",
    "                   vmin = 28, vmax = 35, cmap = cm)\n",
    "\n",
    "ax[1,1].contour(ds[1].x_rho/1000,ds[1].y_rho/1000, ds[1].salt[t,0], \n",
    "                levels = np.arange(28,35.5,0.5), colors = 'k', linewidths = 0.8,\n",
    "                add_colorbar = False)\n",
    "\n",
    "ax[1,2].pcolormesh(ds[2].x_rho/1000,ds[2].y_rho/1000, ds[2].salt[t,0], \n",
    "                        vmin = 28, vmax = 35, cmap = cm)\n",
    "\n",
    "ax[1,2].contour(ds[2].x_rho/1000,ds[2].y_rho/1000, ds[2].salt[t,0], \n",
    "                      levels = np.arange(28,36,0.5), colors = 'k', linewidths = 0.8,\n",
    "                      add_colorbar = False)\n",
    "\n",
    "fig.colorbar(cs, ax = ax[0,-1], label = r'Surface salinity [g kg$^{-1}$]', extend = 'both')\n",
    "fig.colorbar(cs1, ax = ax[1,-1], label = r'Bottom salinity [g kg$^{-1}$]', extend = 'both')\n",
    "\n",
    "for i in range(nrows):\n",
    "    for j in range(ncols):\n",
    "        ax[i,j].set_yticks(np.arange(0,100,20))\n",
    "        ax[i,j].set_xticks(np.arange(0,100,20))\n",
    "        ax[i,j].minorticks_on()\n",
    "        ax[i,j].tick_params(which = 'both',bottom=True, top=True, left=True, right=True)\n",
    "        ax[i,j].tick_params(which = 'both',labelbottom=True, labeltop=False, labelleft=True, labelright=False)\n",
    "        ax[i,j].set_aspect('equal') # Set aspect to equal since the domain is square\n",
    "\n",
    "for i in range(nrows):\n",
    "    for j in range(ncols-1):\n",
    "        ax[i,j+1].set_yticklabels('')\n",
    "\n",
    "for i in range(nrows):\n",
    "    ax[i,0].set_ylabel('Across-shore dist. [km]')\n",
    "    \n",
    "for j in range(ncols):\n",
    "    ax[0,j].set_xticklabels('')\n",
    "    ax[-1,j].set_xlabel('Along-shore dist. [km]')\n",
    "    \n",
    "ax[0,0].set_title('MPDATA')\n",
    "ax[0,1].set_title('U3HC4')\n",
    "ax[0,2].set_title('HSIMT')\n",
    "#Add in subplot labels and specific contour lines\n",
    "ax[0,0].text(3,91, '(a)', fontsize = 10, fontweight = 'heavy')\n",
    "ax[0,1].text(3,91, '(b)', fontsize = 10, fontweight = 'heavy')\n",
    "ax[0,2].text(3,91, '(c)', fontsize = 10, fontweight = 'heavy')\n",
    "ax[0,0].text(40,87.5, '34.5', fontsize = 9)\n",
    "ax[0,1].text(13,77, '34.5', fontsize = 9)\n",
    "ax[0,1].text(50,90.25, '35', fontsize = 9)\n",
    "ax[0,2].text(5,71, '34.5', fontsize = 9)\n",
    "\n",
    "ax[1,0].text(3,91, '(d)', fontsize = 10, fontweight = 'heavy')\n",
    "ax[1,1].text(3,91, '(e)', fontsize = 10, fontweight = 'heavy')\n",
    "ax[1,2].text(3,91, '(f)', fontsize = 10, fontweight = 'heavy')\n",
    "ax[1,0].text(11,40.5, '34.5', fontsize = 9)\n",
    "ax[1,1].text(11,42, '34.5', fontsize = 9)\n",
    "ax[1,1].text(40,60, '35', fontsize = 9)\n",
    "ax[1,2].text(11,49, '34.5', fontsize = 9)\n",
    "\n",
    "path = 'shelf_dx_500_tadv_dt_30_day_26.jpg'\n",
    "# plt.savefig(path, dpi = 500, bbox_inches='tight')\n",
    "# plt.clf()"
   ]
  }
 ],
 "metadata": {
  "kernelspec": {
   "display_name": "copano",
   "language": "python",
   "name": "copano"
  },
  "language_info": {
   "codemirror_mode": {
    "name": "ipython",
    "version": 3
   },
   "file_extension": ".py",
   "mimetype": "text/x-python",
   "name": "python",
   "nbconvert_exporter": "python",
   "pygments_lexer": "ipython3",
   "version": "3.9.13"
  },
  "widgets": {
   "application/vnd.jupyter.widget-state+json": {
    "state": {},
    "version_major": 2,
    "version_minor": 0
   }
  }
 },
 "nbformat": 4,
 "nbformat_minor": 5
}
