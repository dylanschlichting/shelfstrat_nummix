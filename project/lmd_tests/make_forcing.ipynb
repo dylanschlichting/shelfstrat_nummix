{
 "cells": [
  {
   "cell_type": "markdown",
   "id": "2c500e16-89c4-4a12-93eb-dfa11c62bf51",
   "metadata": {},
   "source": [
    "### Notebook to generate wind and heat flux forcing for idealized coastal shelf model. \n",
    "The heat fluxes are included for tests of the KPP vertical mixing scheme *(LMD, 1994)*"
   ]
  },
  {
   "cell_type": "code",
   "execution_count": 13,
   "id": "edcefa6f-6f1b-4065-b241-06b66e501fa4",
   "metadata": {},
   "outputs": [],
   "source": [
    "#Packages - too many for this notebook\n",
    "%matplotlib inline\n",
    "import numpy as np\n",
    "import xgcm\n",
    "from xgcm import Grid\n",
    "import xarray as xr\n",
    "import xroms\n",
    "from datetime import datetime\n",
    "\n",
    "import glob\n",
    "from xhistogram.xarray import histogram\n",
    "import cmocean.cm as cmo\n",
    "import matplotlib.pyplot as plt\n",
    "from matplotlib import colors\n",
    "import matplotlib.ticker as tick\n",
    "from matplotlib.dates import DateFormatter\n",
    "from mpl_toolkits.axes_grid1 import make_axes_locatable\n",
    "import matplotlib.dates as mdates\n",
    "from matplotlib.ticker import AutoMinorLocator"
   ]
  },
  {
   "cell_type": "markdown",
   "id": "756be0ae-f7bf-4cd5-b7c5-e09d388a71d3",
   "metadata": {},
   "source": [
    "### To switch to KPP, we have to tag unique CPP flags, recompile the model, the modify the forcing to include some heat fluxes \n",
    "See link for why variables have specific names/units. https://www.myroms.org/index.php?page=forcing.\n",
    "> - Time dimensions for each variable. Wind stress is ```sms_time```\n",
    "> - Surface $u$ and $v$ momentum stress due to the winds. I prescribe this directly, rather than giving it a wind speed and having ROMS do the internal calculations\n",
    "> - Surface net, shortwave, longwave, and sensitive heat fluxes. These all have to have unique time coordinates "
   ]
  },
  {
   "cell_type": "code",
   "execution_count": 2,
   "id": "6e1e8cb9-c782-4987-b460-2aa19c6dc46a",
   "metadata": {},
   "outputs": [],
   "source": [
    "def make_oscillatory(ndays, dtw, wind_freq, u_amp, v_amp, output_path):\n",
    "  \n",
    "    t = xr.DataArray(np.arange(0, ndays+dtw, dtw)[:-1], dims=['sms_time'])\n",
    "    t1 = xr.DataArray(np.arange(0, ndays+dtw, dtw)[:-1], dims=['srf_time'])\n",
    "    t2 = xr.DataArray(np.arange(0, ndays+dtw, dtw)[:-1], dims=['lrf_time'])\n",
    "    t3 = xr.DataArray(np.arange(0, ndays+dtw, dtw)[:-1], dims=['sen_time'])\n",
    "    t4 = xr.DataArray(np.arange(0, ndays+dtw, dtw)[:-1], dims=['shw_time'])\n",
    "    \n",
    "    #Create some oscillatory wind stress of a specified frequency and amplitude.\n",
    "    uwind_strs = xr.DataArray((np.sin(t*wind_freq*np.pi)*u_amp), dims=['sms_time'])\n",
    "    vwind_strs = xr.DataArray((np.sin(t*wind_freq*np.pi)*v_amp), dims=['sms_time'])\n",
    "    \n",
    "    #Set the net heat flux to zero\n",
    "    shflux_n = xr.DataArray((np.sin(t*wind_freq*np.pi)*0), dims=['shw_time'])\n",
    "    sswflux_n = xr.DataArray((np.sin(t*wind_freq*np.pi)*0), dims=['srf_time'])\n",
    "    slwflux_n = xr.DataArray((np.sin(t*wind_freq*np.pi)*0), dims=['lrf_time'])\n",
    "    senflux_n = xr.DataArray((np.sin(t*wind_freq*np.pi)*0), dims=['sen_time'])\n",
    "    \n",
    "    # Create dataset\n",
    "    ds = xr.Dataset({'sms_time': t, 'srf_time': t1, 'lrf_time': t2, 'sen_time': t3, 'shw_time': t4,\n",
    "                     'sustr': uwind_strs, 'svstr': vwind_strs,\n",
    "                     'shflux': shflux_n, 'swrad': sswflux_n, 'lwrad': slwflux_n, 'sensible': senflux_n,})\n",
    "    # Metadata\n",
    "    ds.attrs['Description'] = 'Forcing for ideal shelf'\n",
    "    ds.attrs['Author'] = 'Dylan Schlichting'\n",
    "    ds.attrs['Created'] = datetime.now().isoformat()\n",
    "    ds.attrs['type'] = 'ROMS FRC file'\n",
    "    # List variable attributes \n",
    "    ds['sms_time'].attrs['units'] = 'days'\n",
    "    ds['srf_time'].attrs['units'] = 'days'\n",
    "    ds['lrf_time'].attrs['units'] = 'days'\n",
    "    ds['sen_time'].attrs['units'] = 'days'\n",
    "    ds['shw_time'].attrs['units'] = 'days'\n",
    "    ds['sustr'].attrs['units'] = 'Newton meter-2'\n",
    "    ds['svstr'].attrs['units'] = 'Newton meter-2'\n",
    "    ds['shflux'].attrs['units'] = 'Watts meter-2'\n",
    "    ds['swrad'].attrs['units'] = 'Watts meter-2'\n",
    "    ds['lwrad'].attrs['units'] = 'Watts meter-2'\n",
    "\n",
    "    return ds\n",
    "\n",
    "ndays = 60\n",
    "wind_freq = 3\n",
    "dtw = 1/72 \n",
    "u_amp = 0.1\n",
    "v_amp = 0 \n",
    "\n",
    "output_path = 'shelf_dx_500_uwind_zeropoint1pa'+'_frc.nc'\n",
    "ds = make_oscillatory(ndays, dtw, wind_freq, u_amp, v_amp, output_path)\n",
    "ds.to_netcdf(output_path)"
   ]
  },
  {
   "cell_type": "markdown",
   "id": "ffe1d673-2255-4bf0-a280-4fb412869182",
   "metadata": {},
   "source": [
    "### Open the output and look at to make sure everything is all good. "
   ]
  },
  {
   "cell_type": "code",
   "execution_count": null,
   "id": "ada1fe8a-4f73-4dd2-bdd6-25db050f5e5d",
   "metadata": {},
   "outputs": [],
   "source": [
    "dsf = xr.open_dataset(output_path)\n",
    "dsf"
   ]
  }
 ],
 "metadata": {
  "kernelspec": {
   "display_name": "copano",
   "language": "python",
   "name": "copano"
  },
  "language_info": {
   "codemirror_mode": {
    "name": "ipython",
    "version": 3
   },
   "file_extension": ".py",
   "mimetype": "text/x-python",
   "name": "python",
   "nbconvert_exporter": "python",
   "pygments_lexer": "ipython3",
   "version": "3.9.13"
  },
  "widgets": {
   "application/vnd.jupyter.widget-state+json": {
    "state": {},
    "version_major": 2,
    "version_minor": 0
   }
  }
 },
 "nbformat": 4,
 "nbformat_minor": 5
}
